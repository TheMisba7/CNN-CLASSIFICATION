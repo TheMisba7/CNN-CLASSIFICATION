{
  "nbformat": 4,
  "nbformat_minor": 0,
  "metadata": {
    "colab": {
      "name": "CouldBeBetter.ipynb",
      "provenance": [],
      "collapsed_sections": [],
      "authorship_tag": "ABX9TyOX8mYX2IUdrJnf8JPQPERB",
      "include_colab_link": true
    },
    "kernelspec": {
      "name": "python3",
      "display_name": "Python 3"
    },
    "language_info": {
      "name": "python"
    }
  },
  "cells": [
    {
      "cell_type": "markdown",
      "metadata": {
        "id": "view-in-github",
        "colab_type": "text"
      },
      "source": [
        "<a href=\"https://colab.research.google.com/github/TheMisba7/TheStage/blob/main/CouldBeBetter.ipynb\" target=\"_parent\"><img src=\"https://colab.research.google.com/assets/colab-badge.svg\" alt=\"Open In Colab\"/></a>"
      ]
    },
    {
      "cell_type": "code",
      "execution_count": 1,
      "metadata": {
        "colab": {
          "base_uri": "https://localhost:8080/"
        },
        "id": "8KvcTR16XRIc",
        "outputId": "e73d01b5-f3d6-40ad-91f5-63390eadc334"
      },
      "outputs": [
        {
          "output_type": "stream",
          "name": "stdout",
          "text": [
            "Mounted at /gdrive\n",
            "/gdrive\n"
          ]
        }
      ],
      "source": [
        "from google.colab import drive\n",
        "drive.mount('/gdrive')\n",
        "%cd /gdrive"
      ]
    },
    {
      "cell_type": "code",
      "source": [
        "import tensorflow as tf\n",
        "import numpy as np\n",
        "\n",
        "base_dir= \"/gdrive/MyDrive/PLANTS\"\n",
        "\n",
        "IMAGE_SIZE=96\n",
        "BATCH_SIZE=32\n"
      ],
      "metadata": {
        "id": "WoanL9vGYcis"
      },
      "execution_count": 2,
      "outputs": []
    },
    {
      "cell_type": "code",
      "source": [
        "from tensorflow import keras\n",
        "from tensorflow.keras import layers\n",
        "from tensorflow.keras.models import Sequential\n",
        "data_augmentation = keras.Sequential(\n",
        "  [\n",
        "    layers.experimental.preprocessing.RandomFlip(\"horizontal\", \n",
        "                                                 input_shape=(IMAGE_SIZE, \n",
        "                                                              IMAGE_SIZE,\n",
        "                                                              3)),\n",
        "    layers.experimental.preprocessing.RandomRotation(0.1),\n",
        "    layers.experimental.preprocessing.RandomZoom(0.1),\n",
        "  ]\n",
        ")"
      ],
      "metadata": {
        "id": "7IgLr3bsVDn_"
      },
      "execution_count": 3,
      "outputs": []
    },
    {
      "cell_type": "code",
      "source": [
        "#pre=processing\n",
        "batch_size = 96\n",
        "img_height = 96\n",
        "img_width = 96\n",
        "\n",
        "\n",
        "train_data = tf.keras.preprocessing.image_dataset_from_directory(\n",
        "  base_dir,\n",
        "  validation_split=0.2,\n",
        "  subset=\"training\",\n",
        "  seed=42,\n",
        "  image_size=(img_height, img_width),\n",
        "  batch_size=batch_size,\n",
        "  )\n",
        "val_data = tf.keras.preprocessing.image_dataset_from_directory(\n",
        "  base_dir,\n",
        "  validation_split=0.2,\n",
        "  subset=\"validation\",\n",
        "  seed=42,\n",
        "  image_size=(img_height,img_width),\n",
        "  batch_size=batch_size)\n",
        "\n",
        "class_names = val_data.class_names"
      ],
      "metadata": {
        "colab": {
          "base_uri": "https://localhost:8080/"
        },
        "id": "7dYal05-YtK4",
        "outputId": "d953daa5-2788-40ed-c020-032e9cb3c909"
      },
      "execution_count": 4,
      "outputs": [
        {
          "output_type": "stream",
          "name": "stdout",
          "text": [
            "Found 1250 files belonging to 24 classes.\n",
            "Using 1000 files for training.\n",
            "Found 1250 files belonging to 24 classes.\n",
            "Using 250 files for validation.\n"
          ]
        }
      ]
    },
    {
      "cell_type": "code",
      "source": [
        ""
      ],
      "metadata": {
        "id": "fYLghKzBY7rm"
      },
      "execution_count": null,
      "outputs": []
    },
    {
      "cell_type": "code",
      "source": [
        "print(class_names)"
      ],
      "metadata": {
        "colab": {
          "base_uri": "https://localhost:8080/"
        },
        "id": "bwRsgb_PZhIX",
        "outputId": "db100c2c-17fd-4f39-8442-9e2b33fc2761"
      },
      "execution_count": 5,
      "outputs": [
        {
          "output_type": "stream",
          "name": "stdout",
          "text": [
            "['Carum carvi L', 'Cicer-arietinum', 'Coffea-arabica', 'Eriobotrya-japonica', 'Ferula communis L', 'Myrtus-communis', 'Phillyrea-angustifolia', 'Pistacia lentiscus L', 'Populus nigra', 'Prunus-amygdalus', 'Prunus-armenica', 'Rosmarinusofficinalis', 'Salix-alba', 'cleomé arabica', 'linum usitatissimum', 'pergularia tamantosa', 'periploca angustifolia', 'rubia-peregrina', 'الزراوند قليل العروق', 'برزطم', 'برواك', 'زراوند', 'سكوم', 'هليون']\n",
            "24\n"
          ]
        }
      ]
    },
    {
      "cell_type": "code",
      "source": [
        "cnn=tf.keras.Sequential()\n",
        "cnn.add(tf.keras.layers.Conv2D(filters=128,padding='same',strides=2,kernel_size=3,activation='relu',input_shape=(96,96,3)))\n",
        "cnn.add(tf.keras.layers.MaxPool2D(pool_size=2,strides=2))\n",
        "\n",
        "cnn.add(tf.keras.layers.Conv2D(filters=64,padding='same',strides=2,kernel_size=3,activation='relu'))\n",
        "cnn.add(tf.keras.layers.MaxPool2D(pool_size=2,strides=2))\n",
        "\n",
        "cnn.add(tf.keras.layers.Conv2D(filters=32,padding='same',strides=2,kernel_size=3,activation='relu'))\n",
        "cnn.add(tf.keras.layers.MaxPool2D(pool_size=2))\n",
        "\n",
        "cnn.add(tf.keras.layers.Flatten())\n",
        "cnn.add(tf.keras.layers.Dense(64,activation='relu'))\n",
        "cnn.add(tf.keras.layers.Dense(164,activation='softmax'))\n",
        "\n",
        "cnn.compile(optimizer=tf.keras.optimizers.Adam(),loss='sparse_categorical_crossentropy',metrics=['accuracy'])\n"
      ],
      "metadata": {
        "id": "AhaaQsjLap7u"
      },
      "execution_count": null,
      "outputs": []
    },
    {
      "cell_type": "code",
      "source": [
        "#batch-size = 100 epoch = 50 / better but overfitting\n",
        "model = tf.keras.Sequential([\n",
        "     data_augmentation,\n",
        "    layers.Rescaling(1./255, input_shape=(img_height, img_width, 3)),                     \n",
        "    tf.keras.layers.Conv2D(32, (3, 3), activation = 'relu'),\n",
        "    tf.keras.layers.MaxPooling2D(2,2),\n",
        "    tf.keras.layers.Conv2D(32, (3, 3), activation = 'relu'),\n",
        "    tf.keras.layers.MaxPooling2D(2,2),\n",
        "    tf.keras.layers.Conv2D(64,(3,3),activation=\"relu\"),\n",
        "    tf.keras.layers.MaxPooling2D(2, 2),\n",
        "    tf.keras.layers.Dropout(0.2),\n",
        "    tf.keras.layers.Flatten(),\n",
        "    tf.keras.layers.Dense(164, activation=tf.nn.softmax)\n",
        "])"
      ],
      "metadata": {
        "id": "Ypxs_E0ql-yN"
      },
      "execution_count": 6,
      "outputs": []
    },
    {
      "cell_type": "code",
      "source": [
        "model.compile(optimizer='adam',\n",
        "              loss=tf.losses.SparseCategoricalCrossentropy(),\n",
        "  metrics=['accuracy'],)\n"
      ],
      "metadata": {
        "id": "MFrRjOaCnIgs"
      },
      "execution_count": 7,
      "outputs": []
    },
    {
      "cell_type": "code",
      "source": [
        "print(model.summary())"
      ],
      "metadata": {
        "colab": {
          "base_uri": "https://localhost:8080/"
        },
        "id": "XTzwOQftav6R",
        "outputId": "e8e2f66f-6343-433b-ec6e-8528caa8a3e2"
      },
      "execution_count": null,
      "outputs": [
        {
          "output_type": "stream",
          "name": "stdout",
          "text": [
            "Model: \"sequential_3\"\n",
            "_________________________________________________________________\n",
            " Layer (type)                Output Shape              Param #   \n",
            "=================================================================\n",
            " sequential (Sequential)     (None, 96, 96, 3)         0         \n",
            "                                                                 \n",
            " rescaling_2 (Rescaling)     (None, 96, 96, 3)         0         \n",
            "                                                                 \n",
            " conv2d_6 (Conv2D)           (None, 94, 94, 32)        896       \n",
            "                                                                 \n",
            " max_pooling2d_6 (MaxPooling  (None, 47, 47, 32)       0         \n",
            " 2D)                                                             \n",
            "                                                                 \n",
            " conv2d_7 (Conv2D)           (None, 45, 45, 32)        9248      \n",
            "                                                                 \n",
            " max_pooling2d_7 (MaxPooling  (None, 22, 22, 32)       0         \n",
            " 2D)                                                             \n",
            "                                                                 \n",
            " conv2d_8 (Conv2D)           (None, 20, 20, 64)        18496     \n",
            "                                                                 \n",
            " max_pooling2d_8 (MaxPooling  (None, 10, 10, 64)       0         \n",
            " 2D)                                                             \n",
            "                                                                 \n",
            " dropout_3 (Dropout)         (None, 10, 10, 64)        0         \n",
            "                                                                 \n",
            " flatten_2 (Flatten)         (None, 6400)              0         \n",
            "                                                                 \n",
            " dense_2 (Dense)             (None, 164)               1049764   \n",
            "                                                                 \n",
            "=================================================================\n",
            "Total params: 1,078,404\n",
            "Trainable params: 1,078,404\n",
            "Non-trainable params: 0\n",
            "_________________________________________________________________\n",
            "None\n"
          ]
        }
      ]
    },
    {
      "cell_type": "code",
      "source": [
        "model.load_weights('/gdrive/MyDrive/my_model_weights.h5')"
      ],
      "metadata": {
        "id": "MvKRxfVZnEGG"
      },
      "execution_count": 18,
      "outputs": []
    },
    {
      "cell_type": "code",
      "source": [
        "model.fit(train_data,epochs=80,validation_data=val_data)"
      ],
      "metadata": {
        "colab": {
          "base_uri": "https://localhost:8080/"
        },
        "id": "b0KBVIzibAsi",
        "outputId": "d95cffee-7415-4354-e972-5cc044db8cd0"
      },
      "execution_count": 19,
      "outputs": [
        {
          "output_type": "stream",
          "name": "stdout",
          "text": [
            "Epoch 1/80\n",
            "11/11 [==============================] - 17s 1s/step - loss: 0.8339 - accuracy: 0.7530 - val_loss: 3.1456 - val_accuracy: 0.4120\n",
            "Epoch 2/80\n",
            "11/11 [==============================] - 16s 1s/step - loss: 0.8249 - accuracy: 0.7460 - val_loss: 3.1840 - val_accuracy: 0.4080\n",
            "Epoch 3/80\n",
            "11/11 [==============================] - 16s 1s/step - loss: 0.7937 - accuracy: 0.7590 - val_loss: 3.3954 - val_accuracy: 0.3760\n",
            "Epoch 4/80\n",
            "11/11 [==============================] - 16s 1s/step - loss: 0.7993 - accuracy: 0.7580 - val_loss: 3.2026 - val_accuracy: 0.3920\n",
            "Epoch 5/80\n",
            "11/11 [==============================] - 16s 1s/step - loss: 0.7959 - accuracy: 0.7470 - val_loss: 3.3055 - val_accuracy: 0.4000\n",
            "Epoch 6/80\n",
            "11/11 [==============================] - 16s 1s/step - loss: 0.7276 - accuracy: 0.7640 - val_loss: 3.3319 - val_accuracy: 0.4000\n",
            "Epoch 7/80\n",
            "11/11 [==============================] - 16s 1s/step - loss: 0.7567 - accuracy: 0.7610 - val_loss: 3.5101 - val_accuracy: 0.3920\n",
            "Epoch 8/80\n",
            "11/11 [==============================] - 16s 1s/step - loss: 0.7453 - accuracy: 0.7650 - val_loss: 3.2635 - val_accuracy: 0.4160\n",
            "Epoch 9/80\n",
            "11/11 [==============================] - 16s 1s/step - loss: 0.7017 - accuracy: 0.7690 - val_loss: 3.3765 - val_accuracy: 0.4200\n",
            "Epoch 10/80\n",
            "11/11 [==============================] - 16s 1s/step - loss: 0.6528 - accuracy: 0.7860 - val_loss: 3.4697 - val_accuracy: 0.3920\n",
            "Epoch 11/80\n",
            "11/11 [==============================] - 16s 1s/step - loss: 0.6808 - accuracy: 0.7850 - val_loss: 3.4429 - val_accuracy: 0.3800\n",
            "Epoch 12/80\n",
            "11/11 [==============================] - 16s 1s/step - loss: 0.6511 - accuracy: 0.7890 - val_loss: 3.4345 - val_accuracy: 0.4080\n",
            "Epoch 13/80\n",
            "11/11 [==============================] - 16s 1s/step - loss: 0.6814 - accuracy: 0.7820 - val_loss: 3.3901 - val_accuracy: 0.4360\n",
            "Epoch 14/80\n",
            "11/11 [==============================] - 16s 1s/step - loss: 0.6330 - accuracy: 0.7890 - val_loss: 3.4597 - val_accuracy: 0.4120\n",
            "Epoch 15/80\n",
            "11/11 [==============================] - 16s 1s/step - loss: 0.6483 - accuracy: 0.8050 - val_loss: 3.4842 - val_accuracy: 0.4080\n",
            "Epoch 16/80\n",
            "11/11 [==============================] - 15s 1s/step - loss: 0.6228 - accuracy: 0.8190 - val_loss: 3.5581 - val_accuracy: 0.4000\n",
            "Epoch 17/80\n",
            "11/11 [==============================] - 16s 1s/step - loss: 0.6092 - accuracy: 0.8110 - val_loss: 3.6510 - val_accuracy: 0.4040\n",
            "Epoch 18/80\n",
            "11/11 [==============================] - 16s 1s/step - loss: 0.5680 - accuracy: 0.8180 - val_loss: 3.6539 - val_accuracy: 0.3960\n",
            "Epoch 19/80\n",
            "11/11 [==============================] - 15s 1s/step - loss: 0.6122 - accuracy: 0.8080 - val_loss: 3.5999 - val_accuracy: 0.3880\n",
            "Epoch 20/80\n",
            "11/11 [==============================] - 16s 1s/step - loss: 0.6039 - accuracy: 0.8000 - val_loss: 3.8158 - val_accuracy: 0.3840\n",
            "Epoch 21/80\n",
            "11/11 [==============================] - 16s 1s/step - loss: 0.5536 - accuracy: 0.8180 - val_loss: 3.6802 - val_accuracy: 0.4240\n",
            "Epoch 22/80\n",
            "11/11 [==============================] - 16s 1s/step - loss: 0.5802 - accuracy: 0.8150 - val_loss: 3.6794 - val_accuracy: 0.4120\n",
            "Epoch 23/80\n",
            "11/11 [==============================] - 16s 1s/step - loss: 0.6190 - accuracy: 0.8030 - val_loss: 3.9439 - val_accuracy: 0.3760\n",
            "Epoch 24/80\n",
            "11/11 [==============================] - 16s 1s/step - loss: 0.5245 - accuracy: 0.8350 - val_loss: 3.7887 - val_accuracy: 0.4040\n",
            "Epoch 25/80\n",
            "11/11 [==============================] - 16s 1s/step - loss: 0.5397 - accuracy: 0.8160 - val_loss: 3.6882 - val_accuracy: 0.4000\n",
            "Epoch 26/80\n",
            "11/11 [==============================] - 16s 1s/step - loss: 0.5626 - accuracy: 0.8380 - val_loss: 3.8122 - val_accuracy: 0.4160\n",
            "Epoch 27/80\n",
            "11/11 [==============================] - 16s 1s/step - loss: 0.5442 - accuracy: 0.8360 - val_loss: 4.0531 - val_accuracy: 0.4120\n",
            "Epoch 28/80\n",
            "11/11 [==============================] - 16s 1s/step - loss: 0.5368 - accuracy: 0.8330 - val_loss: 4.0404 - val_accuracy: 0.4160\n",
            "Epoch 29/80\n",
            "11/11 [==============================] - 16s 1s/step - loss: 0.5571 - accuracy: 0.8180 - val_loss: 3.7931 - val_accuracy: 0.4120\n",
            "Epoch 30/80\n",
            "11/11 [==============================] - 16s 1s/step - loss: 0.4912 - accuracy: 0.8360 - val_loss: 4.1675 - val_accuracy: 0.4040\n",
            "Epoch 31/80\n",
            "11/11 [==============================] - 16s 1s/step - loss: 0.4621 - accuracy: 0.8470 - val_loss: 4.0476 - val_accuracy: 0.4080\n",
            "Epoch 32/80\n",
            "11/11 [==============================] - 16s 1s/step - loss: 0.4643 - accuracy: 0.8560 - val_loss: 4.1793 - val_accuracy: 0.4080\n",
            "Epoch 33/80\n",
            "11/11 [==============================] - 16s 1s/step - loss: 0.4933 - accuracy: 0.8350 - val_loss: 4.2243 - val_accuracy: 0.3960\n",
            "Epoch 34/80\n",
            "11/11 [==============================] - 16s 1s/step - loss: 0.4555 - accuracy: 0.8490 - val_loss: 3.9029 - val_accuracy: 0.4160\n",
            "Epoch 35/80\n",
            "11/11 [==============================] - 16s 1s/step - loss: 0.4971 - accuracy: 0.8280 - val_loss: 4.2089 - val_accuracy: 0.4120\n",
            "Epoch 36/80\n",
            "11/11 [==============================] - 16s 1s/step - loss: 0.5017 - accuracy: 0.8370 - val_loss: 4.3392 - val_accuracy: 0.3800\n",
            "Epoch 37/80\n",
            "11/11 [==============================] - 16s 1s/step - loss: 0.4797 - accuracy: 0.8370 - val_loss: 4.0607 - val_accuracy: 0.4320\n",
            "Epoch 38/80\n",
            "11/11 [==============================] - 16s 1s/step - loss: 0.4272 - accuracy: 0.8610 - val_loss: 4.0945 - val_accuracy: 0.4000\n",
            "Epoch 39/80\n",
            "11/11 [==============================] - 16s 1s/step - loss: 0.4030 - accuracy: 0.8720 - val_loss: 4.3139 - val_accuracy: 0.3960\n",
            "Epoch 40/80\n",
            "11/11 [==============================] - 16s 1s/step - loss: 0.4530 - accuracy: 0.8580 - val_loss: 4.3545 - val_accuracy: 0.4080\n",
            "Epoch 41/80\n",
            "11/11 [==============================] - 16s 1s/step - loss: 0.4196 - accuracy: 0.8760 - val_loss: 4.1630 - val_accuracy: 0.3920\n",
            "Epoch 42/80\n",
            "11/11 [==============================] - 16s 1s/step - loss: 0.3814 - accuracy: 0.8820 - val_loss: 4.3583 - val_accuracy: 0.4240\n",
            "Epoch 43/80\n",
            "11/11 [==============================] - 16s 1s/step - loss: 0.3742 - accuracy: 0.8810 - val_loss: 4.3996 - val_accuracy: 0.4400\n",
            "Epoch 44/80\n",
            "11/11 [==============================] - 16s 1s/step - loss: 0.3569 - accuracy: 0.8950 - val_loss: 4.3720 - val_accuracy: 0.4280\n",
            "Epoch 45/80\n",
            "11/11 [==============================] - 16s 1s/step - loss: 0.3912 - accuracy: 0.8620 - val_loss: 4.7076 - val_accuracy: 0.4240\n",
            "Epoch 46/80\n",
            "11/11 [==============================] - 16s 1s/step - loss: 0.4120 - accuracy: 0.8700 - val_loss: 4.5389 - val_accuracy: 0.4120\n",
            "Epoch 47/80\n",
            "11/11 [==============================] - 17s 1s/step - loss: 0.3919 - accuracy: 0.8660 - val_loss: 4.4932 - val_accuracy: 0.4280\n",
            "Epoch 48/80\n",
            "11/11 [==============================] - 16s 1s/step - loss: 0.4031 - accuracy: 0.8730 - val_loss: 4.5381 - val_accuracy: 0.4360\n",
            "Epoch 49/80\n",
            "11/11 [==============================] - 16s 1s/step - loss: 0.3394 - accuracy: 0.8890 - val_loss: 4.5430 - val_accuracy: 0.4280\n",
            "Epoch 50/80\n",
            "11/11 [==============================] - 16s 1s/step - loss: 0.3545 - accuracy: 0.8930 - val_loss: 4.4165 - val_accuracy: 0.4280\n",
            "Epoch 51/80\n",
            "11/11 [==============================] - 16s 1s/step - loss: 0.3683 - accuracy: 0.8810 - val_loss: 4.5036 - val_accuracy: 0.4160\n",
            "Epoch 52/80\n",
            "11/11 [==============================] - 16s 1s/step - loss: 0.3812 - accuracy: 0.8930 - val_loss: 4.8828 - val_accuracy: 0.4400\n",
            "Epoch 53/80\n",
            "11/11 [==============================] - 15s 1s/step - loss: 0.3845 - accuracy: 0.8700 - val_loss: 4.4896 - val_accuracy: 0.4240\n",
            "Epoch 54/80\n",
            "11/11 [==============================] - 16s 1s/step - loss: 0.3646 - accuracy: 0.8760 - val_loss: 4.3663 - val_accuracy: 0.4280\n",
            "Epoch 55/80\n",
            "11/11 [==============================] - 15s 1s/step - loss: 0.3356 - accuracy: 0.8910 - val_loss: 4.6187 - val_accuracy: 0.4320\n",
            "Epoch 56/80\n",
            "11/11 [==============================] - 16s 1s/step - loss: 0.3651 - accuracy: 0.8810 - val_loss: 4.6903 - val_accuracy: 0.4280\n",
            "Epoch 57/80\n",
            "11/11 [==============================] - 16s 1s/step - loss: 0.3801 - accuracy: 0.8740 - val_loss: 4.3958 - val_accuracy: 0.4200\n",
            "Epoch 58/80\n",
            "11/11 [==============================] - 16s 1s/step - loss: 0.3492 - accuracy: 0.8840 - val_loss: 4.4568 - val_accuracy: 0.4120\n",
            "Epoch 59/80\n",
            "11/11 [==============================] - 16s 1s/step - loss: 0.3280 - accuracy: 0.8990 - val_loss: 4.7973 - val_accuracy: 0.3920\n",
            "Epoch 60/80\n",
            "11/11 [==============================] - 16s 1s/step - loss: 0.3422 - accuracy: 0.8920 - val_loss: 4.6874 - val_accuracy: 0.4160\n",
            "Epoch 61/80\n",
            "11/11 [==============================] - 16s 1s/step - loss: 0.3181 - accuracy: 0.8950 - val_loss: 4.8350 - val_accuracy: 0.4360\n",
            "Epoch 62/80\n",
            "11/11 [==============================] - 16s 1s/step - loss: 0.3474 - accuracy: 0.8850 - val_loss: 4.8677 - val_accuracy: 0.4240\n",
            "Epoch 63/80\n",
            "11/11 [==============================] - 16s 1s/step - loss: 0.3083 - accuracy: 0.8920 - val_loss: 4.8298 - val_accuracy: 0.4240\n",
            "Epoch 64/80\n",
            "11/11 [==============================] - 16s 1s/step - loss: 0.3009 - accuracy: 0.9020 - val_loss: 5.2020 - val_accuracy: 0.4160\n",
            "Epoch 65/80\n",
            "11/11 [==============================] - 16s 1s/step - loss: 0.3083 - accuracy: 0.8930 - val_loss: 4.7513 - val_accuracy: 0.4320\n",
            "Epoch 66/80\n",
            "11/11 [==============================] - 16s 1s/step - loss: 0.3385 - accuracy: 0.8930 - val_loss: 4.8364 - val_accuracy: 0.4720\n",
            "Epoch 67/80\n",
            "11/11 [==============================] - 16s 1s/step - loss: 0.3277 - accuracy: 0.8910 - val_loss: 4.9657 - val_accuracy: 0.4200\n",
            "Epoch 68/80\n",
            "11/11 [==============================] - 16s 1s/step - loss: 0.3243 - accuracy: 0.8920 - val_loss: 5.0474 - val_accuracy: 0.4520\n",
            "Epoch 69/80\n",
            "11/11 [==============================] - 20s 2s/step - loss: 0.3184 - accuracy: 0.9020 - val_loss: 5.0665 - val_accuracy: 0.4480\n",
            "Epoch 70/80\n",
            "11/11 [==============================] - 16s 1s/step - loss: 0.3104 - accuracy: 0.9040 - val_loss: 4.9756 - val_accuracy: 0.4280\n",
            "Epoch 71/80\n",
            "11/11 [==============================] - 16s 1s/step - loss: 0.2841 - accuracy: 0.9170 - val_loss: 4.9504 - val_accuracy: 0.4360\n",
            "Epoch 72/80\n",
            "11/11 [==============================] - 16s 1s/step - loss: 0.2968 - accuracy: 0.9000 - val_loss: 5.1910 - val_accuracy: 0.4120\n",
            "Epoch 73/80\n",
            "11/11 [==============================] - 16s 1s/step - loss: 0.2776 - accuracy: 0.9160 - val_loss: 5.2718 - val_accuracy: 0.4120\n",
            "Epoch 74/80\n",
            "11/11 [==============================] - 16s 1s/step - loss: 0.3376 - accuracy: 0.8910 - val_loss: 4.9645 - val_accuracy: 0.4240\n",
            "Epoch 75/80\n",
            "11/11 [==============================] - 16s 1s/step - loss: 0.2974 - accuracy: 0.9040 - val_loss: 5.0187 - val_accuracy: 0.4240\n",
            "Epoch 76/80\n",
            "11/11 [==============================] - 16s 1s/step - loss: 0.2896 - accuracy: 0.9090 - val_loss: 4.8634 - val_accuracy: 0.4360\n",
            "Epoch 77/80\n",
            "11/11 [==============================] - 16s 1s/step - loss: 0.2720 - accuracy: 0.9120 - val_loss: 5.2289 - val_accuracy: 0.4240\n",
            "Epoch 78/80\n",
            "11/11 [==============================] - 16s 1s/step - loss: 0.2417 - accuracy: 0.9310 - val_loss: 5.1209 - val_accuracy: 0.4040\n",
            "Epoch 79/80\n",
            "11/11 [==============================] - 20s 2s/step - loss: 0.2532 - accuracy: 0.9160 - val_loss: 5.3799 - val_accuracy: 0.4320\n",
            "Epoch 80/80\n",
            "11/11 [==============================] - 16s 1s/step - loss: 0.2652 - accuracy: 0.9220 - val_loss: 5.1392 - val_accuracy: 0.4440\n"
          ]
        },
        {
          "output_type": "execute_result",
          "data": {
            "text/plain": [
              "<keras.callbacks.History at 0x7f8d3193a3d0>"
            ]
          },
          "metadata": {},
          "execution_count": 19
        }
      ]
    },
    {
      "cell_type": "code",
      "source": [
        "history = model.history\n",
        "acc = history.history['accuracy']\n",
        "val_acc = history.history['val_accuracy']\n",
        "epochs = 80\n",
        "loss = history.history['loss']\n",
        "val_loss = history.history['val_loss']\n",
        "\n",
        "epochs_range = range(epochs)\n",
        "import matplotlib.pyplot as plt\n",
        "plt.figure(figsize=(8, 8))\n",
        "plt.subplot(1, 2, 1)\n",
        "plt.plot(epochs_range, acc, label='Training Accuracy')\n",
        "plt.plot(epochs_range, val_acc, label='Validation Accuracy')\n",
        "plt.legend(loc='lower right')\n",
        "plt.title('Training and Validation Accuracy')\n",
        "\n",
        "plt.subplot(1, 2, 2)\n",
        "plt.plot(epochs_range, loss, label='Training Loss')\n",
        "plt.plot(epochs_range, val_loss, label='Validation Loss')\n",
        "plt.legend(loc='upper right')\n",
        "plt.title('Training and Validation Loss')\n",
        "plt.show()"
      ],
      "metadata": {
        "colab": {
          "base_uri": "https://localhost:8080/",
          "height": 499
        },
        "id": "AJXII4cT3eTn",
        "outputId": "02cbd8af-9f14-4569-dd14-b1ecb83a0b58"
      },
      "execution_count": 21,
      "outputs": [
        {
          "output_type": "display_data",
          "data": {
            "text/plain": [
              "<Figure size 576x576 with 2 Axes>"
            ],
            "image/png": "[encoded data removed]"
          },
          "metadata": {
            "needs_background": "light"
          }
        }
      ]
    },
    {
      "cell_type": "code",
      "source": [
        "model.save_weights('/gdrive/MyDrive/my_model_weights.h5')"
      ],
      "metadata": {
        "id": "uFPMJu_VwREH"
      },
      "execution_count": 17,
      "outputs": []
    },
    {
      "cell_type": "code",
      "source": [
        "image = \"/gdrive/MyDrive/PLANTS/Salix-alba/46d1d98e7960cd198eb9973547ea6f35acc954ff.jpeg\"\n",
        "img = tf.keras.utils.load_img(image, target_size=(IMAGE_SIZE, IMAGE_SIZE))\n",
        "img_array = tf.keras.utils.img_to_array(img)\n",
        "img_array = tf.expand_dims(img_array, 0)  # Create a batch\n",
        "\n",
        "predictions = model.predict(img_array)\n",
        "score = tf.nn.softmax(predictions[0])\n",
        "print(\"This image most likely belongs to {} with a {:.2f} percent confidence.\"\n",
        "                        .format(class_names[np.argmax(score)], 100 * np.max(score)))"
      ],
      "metadata": {
        "colab": {
          "base_uri": "https://localhost:8080/"
        },
        "id": "YLI8wI42eSfQ",
        "outputId": "7b57ad0b-6ab3-4e93-f12b-bbb4ab84abd2"
      },
      "execution_count": 13,
      "outputs": [
        {
          "output_type": "stream",
          "name": "stdout",
          "text": [
            "This image most likely belongs to هليون with a 0.71 percent confidence.\n"
          ]
        }
      ]
    }
  ]
}